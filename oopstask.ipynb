{
 "cells": [
  {
   "cell_type": "code",
   "execution_count": 1,
   "id": "7fc27d99-b445-41ad-b111-6eaac9f72a5d",
   "metadata": {},
   "outputs": [
    {
     "name": "stdout",
     "output_type": "stream",
     "text": [
      "Car\n",
      "200\n",
      "35\n"
     ]
    }
   ],
   "source": [
    "class Vehicle:\n",
    "    def __init__(self, name, max_speed, average):\n",
    "        self.name_of_vehicle = name\n",
    "        self.max_speed = max_speed\n",
    "        self.average_of_vehicle = average\n",
    "\n",
    "# Creating an object of the Vehicle class\n",
    "car = Vehicle(\"Car\", 200, 35)\n",
    "\n",
    "# Accessing the instance variables\n",
    "print(car.name_of_vehicle)  # Output: Car\n",
    "print(car.max_speed)  # Output: 200\n",
    "print(car.average_of_vehicle)  # Output: 35\n"
   ]
  },
  {
   "cell_type": "code",
   "execution_count": 2,
   "id": "d2586ce1-1d58-4854-8ab2-777a3f8505be",
   "metadata": {},
   "outputs": [
    {
     "name": "stdout",
     "output_type": "stream",
     "text": [
      "Car\n",
      "200\n",
      "35\n",
      "The Car has a seating capacity of 5.\n"
     ]
    }
   ],
   "source": [
    "class Car(Vehicle):\n",
    "    def seating_capacity(self, capacity):\n",
    "        return f\"The {self.name_of_vehicle} has a seating capacity of {capacity}.\"\n",
    "\n",
    "# Creating an object of the Car class\n",
    "car = Car(\"Car\", 200, 35)\n",
    "\n",
    "# Accessing the inherited instance variables\n",
    "print(car.name_of_vehicle)  # Output: Car\n",
    "print(car.max_speed)  # Output: 200\n",
    "print(car.average_of_vehicle)  # Output: 35\n",
    "\n",
    "# Calling the method of the Car class\n",
    "print(car.seating_capacity(5))  # Output: The Car has a seating capacity of 5.\n"
   ]
  },
  {
   "cell_type": "code",
   "execution_count": 3,
   "id": "71a30f1d-277e-4b3d-81e5-23409700f605",
   "metadata": {},
   "outputs": [
    {
     "name": "stdout",
     "output_type": "stream",
     "text": [
      "Animal is breathing.\n",
      "Mammal is feeding milk.\n",
      "Dog is barking.\n"
     ]
    }
   ],
   "source": [
    "\"\"\"Multiple inheritance is a feature in object-oriented programming where a class can inherit attributes and methods from multiple base classes. It allows a derived class to inherit and combine features from multiple parent classes, enabling code reuse and creating complex class hierarchies.\"\"\"\n",
    "\n",
    "class Animal:\n",
    "    def breathe(self):\n",
    "        print(\"Animal is breathing.\")\n",
    "\n",
    "class Mammal:\n",
    "    def feed_milk(self):\n",
    "        print(\"Mammal is feeding milk.\")\n",
    "\n",
    "class Dog(Animal, Mammal):\n",
    "    def bark(self):\n",
    "        print(\"Dog is barking.\")\n",
    "\n",
    "# Creating an object of the Dog class\n",
    "dog = Dog()\n",
    "\n",
    "# Accessing methods from both base classes and derived class\n",
    "dog.breathe()  # Output: Animal is breathing.\n",
    "dog.feed_milk()  # Output: Mammal is feeding milk.\n",
    "dog.bark()  # Output: Dog is barking.\n"
   ]
  },
  {
   "cell_type": "code",
   "execution_count": 4,
   "id": "e86ff795-3dc6-4d2d-8ba9-8fe7a064cc76",
   "metadata": {},
   "outputs": [
    {
     "name": "stdout",
     "output_type": "stream",
     "text": [
      "John\n",
      "Jane\n"
     ]
    }
   ],
   "source": [
    "\"\"\"In Python, getters and setters are methods used to access and modify the attributes (variables) of a class. They provide controlled access to the attributes, allowing you to enforce validation, perform additional actions, or encapsulate the attribute access logic.\n",
    "\n",
    "Getters (also called accessor methods) are used to retrieve the value of an attribute, while setters (also called mutator methods) are used to modify the value of an attribute. By using getters and setters, you can encapsulate the attributes and control how they are accessed and modified.\n",
    "\n",
    "Here's an example that demonstrates the use of a getter and a setter in a class:\"\"\"\n",
    "class Person:\n",
    "    def __init__(self, name):\n",
    "        self._name = name\n",
    "\n",
    "    def get_name(self):\n",
    "        return self._name\n",
    "\n",
    "    def set_name(self, name):\n",
    "        self._name = name\n",
    "\n",
    "# Creating an object of the Person class\n",
    "person = Person(\"John\")\n",
    "\n",
    "# Using the getter to retrieve the name\n",
    "print(person.get_name())  # Output: John\n",
    "\n",
    "# Using the setter to modify the name\n",
    "person.set_name(\"Jane\")\n",
    "\n",
    "# Using the getter again to retrieve the modified name\n",
    "print(person.get_name())  # Output: Jane\n"
   ]
  },
  {
   "cell_type": "code",
   "execution_count": null,
   "id": "e423a13d-4d2f-4c8f-83fd-d56a57bd9bbf",
   "metadata": {},
   "outputs": [],
   "source": []
  }
 ],
 "metadata": {
  "kernelspec": {
   "display_name": "Python 3 (ipykernel)",
   "language": "python",
   "name": "python3"
  },
  "language_info": {
   "codemirror_mode": {
    "name": "ipython",
    "version": 3
   },
   "file_extension": ".py",
   "mimetype": "text/x-python",
   "name": "python",
   "nbconvert_exporter": "python",
   "pygments_lexer": "ipython3",
   "version": "3.10.8"
  }
 },
 "nbformat": 4,
 "nbformat_minor": 5
}
